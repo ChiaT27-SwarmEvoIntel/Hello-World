{
 "cells": [
  {
   "cell_type": "code",
   "execution_count": 12,
   "metadata": {},
   "outputs": [
    {
     "data": {
      "text/plain": [
       "[[-6.48694692977656, -9.946943626713567],\n",
       " [-5.850385429777019, 8.468893193843002],\n",
       " [-7.376386654739648, 1.392922074266739],\n",
       " [9.978626368271065, 3.609991758471164],\n",
       " [-0.35254930321718625, -4.008637949232092]]"
      ]
     },
     "execution_count": 12,
     "metadata": {},
     "output_type": "execute_result"
    }
   ],
   "source": [
    "#  Learn to Sort a list using other values\n",
    "import random\n",
    "\n",
    "X = [[random.uniform(-10,10) for i in range(2)] for i in range(5)]\n",
    "X"
   ]
  },
  {
   "cell_type": "code",
   "execution_count": 24,
   "metadata": {},
   "outputs": [
    {
     "data": {
      "text/plain": [
       "([(16.1934692192226, [-0.35254930321718625, -4.008637949232092]),\n",
       "  (56.35131198520074, [-7.376386654739648, 1.392922074266739]),\n",
       "  (105.94916160566756, [-5.850385429777019, 8.468893193843002]),\n",
       "  (112.60502469378432, [9.978626368271065, 3.609991758471164]),\n",
       "  (141.0221679827552, [-6.48694692977656, -9.946943626713567])],\n",
       " [(16.1934692192226, [-0.35254930321718625, -4.008637949232092]),\n",
       "  (56.35131198520074, [-7.376386654739648, 1.392922074266739]),\n",
       "  (105.94916160566756, [-5.850385429777019, 8.468893193843002]),\n",
       "  (112.60502469378432, [9.978626368271065, 3.609991758471164]),\n",
       "  (141.0221679827552, [-6.48694692977656, -9.946943626713567])])"
      ]
     },
     "execution_count": 24,
     "metadata": {},
     "output_type": "execute_result"
    }
   ],
   "source": [
    "def sphere(x):\n",
    "    ans = 0\n",
    "    for i in range(len(x)):\n",
    "        ans += x[i]**2\n",
    "        \n",
    "    return ans\n",
    "\n",
    "\n",
    "A = zip(X[0],X[1])\n",
    "\n",
    "fx = [sphere(i) for i in X]\n",
    "B = [(_,x) for _,x in sorted(zip(fx, X))]   # sorting a list \n",
    "C = [(_,x) for _,x in sorted(zip(fx, X), key=lambda pair: pair[0])]  # sorting a list from a given key\n",
    "\n",
    "B, C"
   ]
  },
  {
   "cell_type": "code",
   "execution_count": 36,
   "metadata": {},
   "outputs": [
    {
     "data": {
      "text/plain": [
       "<zip at 0x14f1e86ff48>"
      ]
     },
     "execution_count": 36,
     "metadata": {},
     "output_type": "execute_result"
    }
   ],
   "source": [
    "A"
   ]
  },
  {
   "cell_type": "code",
   "execution_count": 20,
   "metadata": {},
   "outputs": [
    {
     "data": {
      "text/plain": [
       "[(-6.48694692977656, -5.850385429777019),\n",
       " (-9.946943626713567, 8.468893193843002)]"
      ]
     },
     "execution_count": 20,
     "metadata": {},
     "output_type": "execute_result"
    }
   ],
   "source": [
    "[i for i in A]"
   ]
  },
  {
   "cell_type": "code",
   "execution_count": 29,
   "metadata": {},
   "outputs": [
    {
     "data": {
      "text/plain": [
       "([141.0221679827552,\n",
       "  105.94916160566756,\n",
       "  56.35131198520074,\n",
       "  112.60502469378432,\n",
       "  16.1934692192226],\n",
       " [[-6.48694692977656, -9.946943626713567],\n",
       "  [-5.850385429777019, 8.468893193843002],\n",
       "  [-7.376386654739648, 1.392922074266739],\n",
       "  [9.978626368271065, 3.609991758471164],\n",
       "  [-0.35254930321718625, -4.008637949232092]])"
      ]
     },
     "execution_count": 29,
     "metadata": {},
     "output_type": "execute_result"
    }
   ],
   "source": [
    "fx, X"
   ]
  },
  {
   "cell_type": "code",
   "execution_count": null,
   "metadata": {},
   "outputs": [],
   "source": []
  },
  {
   "cell_type": "code",
   "execution_count": null,
   "metadata": {},
   "outputs": [],
   "source": []
  }
 ],
 "metadata": {
  "kernelspec": {
   "display_name": "Python [default]",
   "language": "python",
   "name": "python3"
  },
  "language_info": {
   "codemirror_mode": {
    "name": "ipython",
    "version": 3
   },
   "file_extension": ".py",
   "mimetype": "text/x-python",
   "name": "python",
   "nbconvert_exporter": "python",
   "pygments_lexer": "ipython3",
   "version": "3.5.6"
  }
 },
 "nbformat": 4,
 "nbformat_minor": 2
}
