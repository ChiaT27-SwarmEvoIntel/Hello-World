{
 "cells": [
  {
   "cell_type": "markdown",
   "metadata": {},
   "source": [
    "# Calculate probabilty from values of a function \n",
    "\n",
    "$ P_i = \\frac{\\frac{1}{1+f(x_i)}}{\\sum_{i}^{n}\\frac{1}{1+f(x_n)}} $\n",
    "\n",
    "* Where $P_i$ is the probability of vector i and $f(x_i)$ is the evaluated value of vector x.\n",
    "* In this calculation the smaller the value of $f(x_i)$ the higher the probability"
   ]
  },
  {
   "cell_type": "code",
   "execution_count": 132,
   "metadata": {},
   "outputs": [],
   "source": [
    "import random\n",
    "\n",
    "def VectorPi(X, f):\n",
    "    \"\"\" takes vector(s) X, evalute on function f and output their \n",
    "    probability(ies) \"\"\"\n",
    "    \n",
    "    P = []\n",
    "    sP = sum ([1 / (1 + f(i) ) for i in X])\n",
    "    for i in range(len(X)):\n",
    "        \n",
    "        P.append(  (1 / (1 + f(X[i]) ) )/  sP )\n",
    "        \n",
    "    return P\n",
    "\n",
    "def ValuePi(X):\n",
    "    \"\"\" takes value(s) X, and output their probability(ies) \"\"\"\n",
    "    P = []\n",
    "    sP = sum ([1 / (1 + i) for i in X])\n",
    "    for i in range(len(X)):\n",
    "        \n",
    "        P.append(  (1 / (1 + X[i]) )/  sP )\n",
    "        \n",
    "    return P\n",
    "    "
   ]
  },
  {
   "cell_type": "code",
   "execution_count": 133,
   "metadata": {},
   "outputs": [
    {
     "data": {
      "text/plain": [
       "[-1.2881785437668913,\n",
       " 7.53457511630203,\n",
       " -9.004788750287805,\n",
       " 0.6368023883775074,\n",
       " -8.6273642366314]"
      ]
     },
     "execution_count": 133,
     "metadata": {},
     "output_type": "execute_result"
    }
   ],
   "source": [
    "# generate a series of vectors V and a series of values Y\n",
    "\n",
    "Y = [random.uniform(-10,10) for i in range(5)]                     # generates list of 5 values \n",
    "V = [[random.uniform(-10,10) for i in range(3)] for i in range(5)] # generates 5 vectors each with 3 dimensions\n",
    "Y"
   ]
  },
  {
   "cell_type": "code",
   "execution_count": 134,
   "metadata": {},
   "outputs": [
    {
     "data": {
      "text/plain": [
       "[[1.3811073931526945, -5.574617412223808, 1.7765907288206364],\n",
       " [-3.410015332547511, 5.280524667524077, -2.7874327396517096],\n",
       " [9.833641639629462, 3.7796668593074294, -0.2539868952421127],\n",
       " [0.27807375389313194, 1.570218314362549, -9.47492751376543],\n",
       " [1.9734693190635522, 0.5409553181602114, -0.41602545806011193]]"
      ]
     },
     "execution_count": 134,
     "metadata": {},
     "output_type": "execute_result"
    }
   ],
   "source": [
    "V"
   ]
  },
  {
   "cell_type": "markdown",
   "metadata": {},
   "source": [
    "# Calculate Probabilities "
   ]
  },
  {
   "cell_type": "code",
   "execution_count": 135,
   "metadata": {},
   "outputs": [],
   "source": [
    "# define evaluation function \n",
    "\n",
    "def sphere(x):\n",
    "    ans = 0\n",
    "    for i in range(len(x)):\n",
    "        ans += x[i]**2\n",
    "        \n",
    "    return ans"
   ]
  },
  {
   "cell_type": "code",
   "execution_count": 136,
   "metadata": {},
   "outputs": [
    {
     "data": {
      "text/plain": [
       "([0.10607339029996803,\n",
       "  0.08159524075465295,\n",
       "  0.03515880254275649,\n",
       "  0.04221705143203247,\n",
       "  0.7349555149705899],\n",
       " 0.9999999999999998,\n",
       " [36.140091541821334,\n",
       "  47.28192661062161,\n",
       "  111.05089880695603,\n",
       "  92.31716195847292,\n",
       "  4.360290991285101])"
      ]
     },
     "execution_count": 136,
     "metadata": {},
     "output_type": "execute_result"
    }
   ],
   "source": [
    "# Calculate vector probabilities alongside function values \n",
    "\n",
    "VectorPi(V, sphere), sum(VectorPi(V, sphere)), [sphere(i) for i in V]"
   ]
  },
  {
   "cell_type": "code",
   "execution_count": 137,
   "metadata": {},
   "outputs": [
    {
     "data": {
      "text/plain": [
       "([1.15746762795834,\n",
       "  -0.03908306282819154,\n",
       "  0.041669723697625324,\n",
       "  -0.20378595354628823,\n",
       "  0.04373166471851445],\n",
       " 1.0,\n",
       " [-1.2881785437668913,\n",
       "  7.53457511630203,\n",
       "  -9.004788750287805,\n",
       "  0.6368023883775074,\n",
       "  -8.6273642366314])"
      ]
     },
     "execution_count": 137,
     "metadata": {},
     "output_type": "execute_result"
    }
   ],
   "source": [
    "# Calculate value probabilities alongside function values \n",
    "\n",
    "ValuePi(Y), sum(ValuePi(Y)), Y"
   ]
  },
  {
   "cell_type": "markdown",
   "metadata": {},
   "source": [
    "\n",
    "\n",
    "\n",
    "\n"
   ]
  },
  {
   "cell_type": "markdown",
   "metadata": {},
   "source": [
    "# Dealing with negative values\n",
    "* If a the evaluation function yields a negative value, the above function might yield undesirable probabilities\n",
    "* To handle this issue, we will do the following\n",
    "  1. Test if the value of $f(x)$ or $y$ is less than or equall to zero.\n",
    "  2. If it isn't dont change the list but if it isn't \n",
    "  3. take the absolute value of the minimum and add one to it\n",
    "  4. add this value to every $f(x)$ or $y$ \n"
   ]
  },
  {
   "cell_type": "code",
   "execution_count": 138,
   "metadata": {},
   "outputs": [],
   "source": [
    "def VectorPi(X, f):\n",
    "    \"\"\" takes vector(s) X, evalute on function f and output their \n",
    "    probability(ies) \"\"\"\n",
    "    \n",
    "    fx = [f(i) for i in X]\n",
    "    # print(X)\n",
    "    if min(fx)<0:   # make all values positive\n",
    "        fx = [i - min(fx)+1 for i in fx]\n",
    "    # print(X)\n",
    "    \n",
    "    P = []\n",
    "    sP = sum ([1 / (1 + i ) for i in fx])\n",
    "    for i in range(len(X)):\n",
    "        \n",
    "        P.append(  (1 / (1 + fx[i]) ) /  sP )\n",
    "        \n",
    "    return P\n",
    "\n",
    "def ValuePi(X):\n",
    "    \"\"\" takes value(s) X, and output their probability(ies) \"\"\"\n",
    "    P = []\n",
    "    \n",
    "    # print(X)\n",
    "    if min(X)<0:   # make all values positive\n",
    "        X = [i - min(X)+1 for i in X]\n",
    "    # print(X)\n",
    "    \n",
    "    sP = sum ([1 / (1 + i) for i in X])\n",
    "\n",
    "    for i in range(len(X)):\n",
    "        \n",
    "        P.append(  (1 / (1 + X[i]) )/  sP )\n",
    "        \n",
    "    return P"
   ]
  },
  {
   "cell_type": "markdown",
   "metadata": {},
   "source": [
    "# Calculate probabilities "
   ]
  },
  {
   "cell_type": "code",
   "execution_count": 139,
   "metadata": {},
   "outputs": [
    {
     "data": {
      "text/plain": [
       "([0.08846355307471669,\n",
       "  0.046364366592962655,\n",
       "  0.42978293135544837,\n",
       "  0.07383577145704882,\n",
       "  0.3615533775198235],\n",
       " 1.0,\n",
       " [-1.2881785437668913,\n",
       "  7.53457511630203,\n",
       "  -9.004788750287805,\n",
       "  0.6368023883775074,\n",
       "  -8.6273642366314])"
      ]
     },
     "execution_count": 139,
     "metadata": {},
     "output_type": "execute_result"
    }
   ],
   "source": [
    "ValuePi(Y),sum(ValuePi(Y)), Y"
   ]
  },
  {
   "cell_type": "code",
   "execution_count": 141,
   "metadata": {},
   "outputs": [
    {
     "data": {
      "text/plain": [
       "([0.10607339029996803,\n",
       "  0.08159524075465295,\n",
       "  0.03515880254275649,\n",
       "  0.04221705143203247,\n",
       "  0.7349555149705899],\n",
       " 0.9999999999999998,\n",
       " [[1.3811073931526945, -5.574617412223808, 1.7765907288206364],\n",
       "  [-3.410015332547511, 5.280524667524077, -2.7874327396517096],\n",
       "  [9.833641639629462, 3.7796668593074294, -0.2539868952421127],\n",
       "  [0.27807375389313194, 1.570218314362549, -9.47492751376543],\n",
       "  [1.9734693190635522, 0.5409553181602114, -0.41602545806011193]])"
      ]
     },
     "execution_count": 141,
     "metadata": {},
     "output_type": "execute_result"
    }
   ],
   "source": [
    "VectorPi(V,sphere),sum(VectorPi(V,sphere)), V"
   ]
  },
  {
   "cell_type": "code",
   "execution_count": null,
   "metadata": {},
   "outputs": [],
   "source": []
  }
 ],
 "metadata": {
  "kernelspec": {
   "display_name": "Python [default]",
   "language": "python",
   "name": "python3"
  },
  "language_info": {
   "codemirror_mode": {
    "name": "ipython",
    "version": 3
   },
   "file_extension": ".py",
   "mimetype": "text/x-python",
   "name": "python",
   "nbconvert_exporter": "python",
   "pygments_lexer": "ipython3",
   "version": "3.5.6"
  }
 },
 "nbformat": 4,
 "nbformat_minor": 2
}
