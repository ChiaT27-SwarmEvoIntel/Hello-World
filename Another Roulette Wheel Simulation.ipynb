{
 "cells": [
  {
   "cell_type": "code",
   "execution_count": 1,
   "metadata": {},
   "outputs": [],
   "source": [
    "#----------------------------------------------------*\n",
    "# CHIA E. TUNGOM (Chemago)\n",
    "# Dec 2019\n",
    "# SZU\n",
    "# Simulating a roulette wheel in Python\n",
    "#-----------------------------------------------------*"
   ]
  },
  {
   "cell_type": "code",
   "execution_count": 2,
   "metadata": {},
   "outputs": [],
   "source": [
    "def prob(a):\n",
    " # \"\"\" Find the probability of a number on a list based on it's value\"\"\"\n",
    "\n",
    "    mi = min(a)\n",
    "    if mi <= 0:\n",
    "        print(\"List has Negative or Zero Value, modification made...\")\n",
    "        push = (- mi) + 1\n",
    "        pushA = []\n",
    "        for i in range (len(a)):\n",
    "             pushA.append(a[i]+push)\n",
    "        print(\"New List is  :\",pushA)\n",
    "        \n",
    "        return([i/sum(pushA) for i in pushA])\n",
    "    else:\n",
    "        return [i/sum(a) for i in a]\n"
   ]
  },
  {
   "cell_type": "code",
   "execution_count": 3,
   "metadata": {},
   "outputs": [],
   "source": [
    "\n",
    "def fnorm(A):\n",
    "   # find the f Normalize probability between 0 and one for each value\n",
    "   # A: list of probabilities  e.g A = prob(a)\n",
    "     E=[]\n",
    "     c=0\n",
    "     for i in A:\n",
    "         c+= i\n",
    "         E.append(c)\n",
    "     return E\n"
   ]
  },
  {
   "cell_type": "code",
   "execution_count": 5,
   "metadata": {},
   "outputs": [
    {
     "name": "stdout",
     "output_type": "stream",
     "text": [
      "236\n"
     ]
    }
   ],
   "source": [
    "import random \n",
    "\n",
    "def roulette(A,B):\n",
    "  # choose a value using a roulette wheel\n",
    "  # A: the f normalized probability e.g fnorm(prob(a))   B: The list to choose from e.g a\n",
    "     c = random.random()\n",
    "     for i in range (len(A)):\n",
    "         if i == 0: \n",
    "             if 0 < c < A[i]:\n",
    "                return B[i]\n",
    "         else:\n",
    "             if A[i-1] < c < A[i]:\n",
    "                return B[i]\n",
    "\n",
    "a = [189, 216, 99, 236, 174, 74, 35, 53] \n",
    "       \n",
    "print(roulette(fnorm(prob(a)), a))\n"
   ]
  },
  {
   "cell_type": "code",
   "execution_count": 6,
   "metadata": {},
   "outputs": [
    {
     "name": "stdout",
     "output_type": "stream",
     "text": [
      "99\n",
      "189\n",
      "174\n",
      "53\n",
      "216\n",
      "236\n",
      "216\n",
      "189\n",
      "53\n",
      "99\n",
      "216\n",
      "174\n",
      "189\n",
      "216\n",
      "174\n",
      "99\n",
      "216\n",
      "174\n",
      "216\n",
      "236\n"
     ]
    }
   ],
   "source": [
    "\n",
    "for i in range(20):\n",
    "     print(roulette(fnorm(prob(a)), a))"
   ]
  },
  {
   "cell_type": "code",
   "execution_count": null,
   "metadata": {},
   "outputs": [],
   "source": []
  },
  {
   "cell_type": "code",
   "execution_count": null,
   "metadata": {},
   "outputs": [],
   "source": []
  }
 ],
 "metadata": {
  "kernelspec": {
   "display_name": "Python [default]",
   "language": "python",
   "name": "python3"
  },
  "language_info": {
   "codemirror_mode": {
    "name": "ipython",
    "version": 3
   },
   "file_extension": ".py",
   "mimetype": "text/x-python",
   "name": "python",
   "nbconvert_exporter": "python",
   "pygments_lexer": "ipython3",
   "version": "3.5.6"
  }
 },
 "nbformat": 4,
 "nbformat_minor": 2
}
