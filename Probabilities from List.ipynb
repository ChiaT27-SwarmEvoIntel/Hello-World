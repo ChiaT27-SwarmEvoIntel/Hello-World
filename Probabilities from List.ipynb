{
 "cells": [
  {
   "cell_type": "code",
   "execution_count": 1,
   "metadata": {
    "collapsed": true
   },
   "outputs": [],
   "source": [
    "#----------------------------------------------------*\n",
    "# CHIA E. TUNGOM (Chemago)\n",
    "# Dec 2019\n",
    "# SZU\n",
    "# Finding probabilities from a list of numbers\n",
    "#-----------------------------------------------------*"
   ]
  },
  {
   "cell_type": "code",
   "execution_count": 9,
   "metadata": {
    "collapsed": true
   },
   "outputs": [],
   "source": [
    "\n",
    "def prob(a):\n",
    "    \n",
    "    \"\"\" Find the probability of a number on a list based on it's value\n",
    "     a: a list \n",
    "     returns probabilities. list postition = probability position \n",
    "     e.g probability of a[1] = returned list[1]  \"\"\"\n",
    "    \n",
    "    mi = min(a)\n",
    "    if mi <= 0:\n",
    "        print(\"List has Negative or Zero Value, modification made...\")\n",
    "        push = (- mi) + 1\n",
    "        pushA = []\n",
    "        for i in range (len(a)):\n",
    "             pushA.append(a[i]+push)\n",
    "        print(\"New List is  :\",pushA)\n",
    "        \n",
    "        return([i/sum(pushA) for i in pushA])\n",
    "    else:\n",
    "        return [i/sum(a) for i in a]"
   ]
  },
  {
   "cell_type": "code",
   "execution_count": 10,
   "metadata": {
    "collapsed": true
   },
   "outputs": [],
   "source": [
    "def Oprob(a):\n",
    "    \n",
    "    \"\"\" Find the probability of a number on a list based on it's value\n",
    "     the smallest number gets the highest probability\n",
    "     a: a list \n",
    "     returns probabilities. list postition = probability position \n",
    "     e.g probability of a[1] = returned list[1]  \"\"\"\n",
    "    \n",
    "    mi = min(a)\n",
    "    # modify list to be all positive\n",
    "    if mi <= 0:\n",
    "        print(\"List has Negative or Zero Value, modification made...\")\n",
    "        push = (- mi) + 1\n",
    "        pushA = []\n",
    "        for i in range (len(a)):\n",
    "             pushA.append(a[i]+push)\n",
    "        print(\"New List is  :\",pushA)\n",
    "        \n",
    "        x = max(pushA)\n",
    "        b = [x]\n",
    "        \n",
    "        # make the min value to be max value\n",
    "        for i in range(len(pushA)-1):\n",
    "            c = pushA[i]-pushA[i+1]   # calculate interval\n",
    "            c += b[i]\n",
    "            b.append(c)\n",
    "            \n",
    "        print(\"reversed list : \", b)\n",
    "        return([i/sum(b) for i in b])\n",
    "    else:\n",
    "        # make the min value to be max value\n",
    "        x = max(a)\n",
    "        b = [x]\n",
    "        \n",
    "        for i in range(len(a)-1):\n",
    "            c = a[i]-a[i+1]   # calculate interval\n",
    "            c += b[i]\n",
    "            b.append(c)\n",
    "        print(\"reversed list : \", b)\n",
    "        return [i/sum(b) for i in b]"
   ]
  },
  {
   "cell_type": "code",
   "execution_count": 11,
   "metadata": {
    "collapsed": false
   },
   "outputs": [
    {
     "data": {
      "text/plain": [
       "[-1, 2, 3, 5, 4, 9, -6, 4, 6, 5]"
      ]
     },
     "execution_count": 11,
     "metadata": {},
     "output_type": "execute_result"
    }
   ],
   "source": [
    "from random import randint # generate random int numbers in a given range\n",
    "\n",
    "A = [randint(-10,10) for i in range(10)]\n",
    "A"
   ]
  },
  {
   "cell_type": "code",
   "execution_count": 12,
   "metadata": {
    "collapsed": false
   },
   "outputs": [
    {
     "name": "stdout",
     "output_type": "stream",
     "text": [
      "[-1, -9, 1, -5, -7, -3, 8, 5, 7, 5]\n",
      "[7, 3, 2, 6, 1, 7, 6, 7, 2, 9]\n",
      "[12, 20, 17, 16, 19, 16, 20, 14, 14, 15]\n"
     ]
    }
   ],
   "source": [
    "A = [randint(-10,10) for i in range(10)]\n",
    "B = [randint(0,10) for i in range(10)]\n",
    "C = [randint(10,20) for i in range(10)]\n",
    "\n",
    "print(A)\n",
    "print(B)\n",
    "print(C)"
   ]
  },
  {
   "cell_type": "code",
   "execution_count": 16,
   "metadata": {
    "collapsed": false
   },
   "outputs": [
    {
     "name": "stdout",
     "output_type": "stream",
     "text": [
      "List has Negative or Zero Value, modification made...\n",
      "New List is  : [9, 1, 11, 5, 3, 7, 18, 15, 17, 15]\n",
      "[0.0891089108910891, 0.009900990099009901, 0.10891089108910891, 0.04950495049504951, 0.0297029702970297, 0.06930693069306931, 0.1782178217821782, 0.1485148514851485, 0.16831683168316833, 0.1485148514851485]\n",
      "List has Negative or Zero Value, modification made...\n",
      "New List is  : [9, 1, 11, 5, 3, 7, 18, 15, 17, 15]\n",
      "reversed list :  [18, 26, 16, 22, 24, 20, 9, 12, 10, 12]\n",
      "[0.10650887573964497, 0.15384615384615385, 0.09467455621301775, 0.1301775147928994, 0.14201183431952663, 0.11834319526627218, 0.05325443786982249, 0.07100591715976332, 0.05917159763313609, 0.07100591715976332]\n"
     ]
    }
   ],
   "source": [
    "# Calculate probaoities for each list\n",
    "print(prob(A))\n",
    "\n",
    "print(Oprob(A))"
   ]
  },
  {
   "cell_type": "code",
   "execution_count": 17,
   "metadata": {
    "collapsed": false
   },
   "outputs": [
    {
     "name": "stdout",
     "output_type": "stream",
     "text": [
      "[0.14, 0.06, 0.04, 0.12, 0.02, 0.14, 0.12, 0.14, 0.04, 0.18]\n",
      "reversed list :  [9, 13, 14, 10, 15, 9, 10, 9, 14, 7]\n",
      "[0.08181818181818182, 0.11818181818181818, 0.12727272727272726, 0.09090909090909091, 0.13636363636363635, 0.08181818181818182, 0.09090909090909091, 0.08181818181818182, 0.12727272727272726, 0.06363636363636363]\n"
     ]
    }
   ],
   "source": [
    "print(prob(B))\n",
    "\n",
    "print(Oprob(B))"
   ]
  },
  {
   "cell_type": "code",
   "execution_count": 18,
   "metadata": {
    "collapsed": false
   },
   "outputs": [
    {
     "name": "stdout",
     "output_type": "stream",
     "text": [
      "[0.0736196319018405, 0.12269938650306748, 0.10429447852760736, 0.09815950920245399, 0.1165644171779141, 0.09815950920245399, 0.12269938650306748, 0.08588957055214724, 0.08588957055214724, 0.09202453987730061]\n",
      "reversed list :  [20, 12, 15, 16, 13, 16, 12, 18, 18, 17]\n",
      "[0.12738853503184713, 0.07643312101910828, 0.09554140127388536, 0.10191082802547771, 0.08280254777070063, 0.10191082802547771, 0.07643312101910828, 0.11464968152866242, 0.11464968152866242, 0.10828025477707007]\n"
     ]
    }
   ],
   "source": [
    "print(prob(C))\n",
    "\n",
    "print(Oprob(C))"
   ]
  },
  {
   "cell_type": "code",
   "execution_count": null,
   "metadata": {
    "collapsed": true
   },
   "outputs": [],
   "source": []
  }
 ],
 "metadata": {
  "kernelspec": {
   "display_name": "Python [Root]",
   "language": "python",
   "name": "Python [Root]"
  },
  "language_info": {
   "codemirror_mode": {
    "name": "ipython",
    "version": 3
   },
   "file_extension": ".py",
   "mimetype": "text/x-python",
   "name": "python",
   "nbconvert_exporter": "python",
   "pygments_lexer": "ipython3",
   "version": "3.5.6"
  }
 },
 "nbformat": 4,
 "nbformat_minor": 2
}
