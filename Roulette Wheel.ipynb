{
 "cells": [
  {
   "cell_type": "code",
   "execution_count": 2,
   "metadata": {},
   "outputs": [],
   "source": [
    "#----------------------------------------------*\n",
    "# CHIA E TUNGOM\n",
    "# Dec, 2019\n",
    "# Roulette wheel for selection\n",
    "#----------------------------------------------*"
   ]
  },
  {
   "cell_type": "code",
   "execution_count": 3,
   "metadata": {},
   "outputs": [],
   "source": [
    "# define a probability function\n",
    "\n",
    "def prob(a):\n",
    "# \"\"\" Find the probability of a number on a list based on it's value\"\"\"\n",
    "\n",
    "    mi = min(a)\n",
    "    if mi <= 0:\n",
    "        print(\"List has Negative or Zero Value, modification made...\")\n",
    "        push = (- mi) + 1\n",
    "        pushA = []\n",
    "        for i in range (len(a)):\n",
    "             pushA.append(a[i]+push)\n",
    "        print(\"New List is  :\",pushA)\n",
    "        \n",
    "        return([i/sum(pushA) for i in pushA])\n",
    "    else:\n",
    "        return [i/sum(a) for i in a]"
   ]
  },
  {
   "cell_type": "code",
   "execution_count": 4,
   "metadata": {},
   "outputs": [
    {
     "data": {
      "text/plain": [
       "[0.1393939393939394,\n",
       " 0.09696969696969697,\n",
       " 0.16363636363636364,\n",
       " 0.5393939393939394,\n",
       " 0.06060606060606061]"
      ]
     },
     "execution_count": 4,
     "metadata": {},
     "output_type": "execute_result"
    }
   ],
   "source": [
    "# Example\n",
    "List = [23, 16, 27, 89, 10]\n",
    "\n",
    "prob(List)"
   ]
  },
  {
   "cell_type": "code",
   "execution_count": 5,
   "metadata": {},
   "outputs": [
    {
     "name": "stdout",
     "output_type": "stream",
     "text": [
      "0.1985857097512842  : Is the random Varaible and  0.1393939393939394  Is the Probability\n",
      "0.9127121252117479  : Is the random Varaible and  0.09696969696969697  Is the Probability\n",
      "0.3540282344341922  : Is the random Varaible and  0.16363636363636364  Is the Probability\n",
      "0.3914082657817003  : Is the random Varaible and  0.5393939393939394  Is the Probability\n",
      "89  : has been selected \n"
     ]
    }
   ],
   "source": [
    "# Roulet wheel\n",
    "\n",
    "import random\n",
    "#rand = random.random()\n",
    "P = prob(List)\n",
    "\n",
    "for i, probability in enumerate(P):\n",
    "    rand = random.random()\n",
    "    print (rand, \" : Is the random Varaible and \", probability, \" Is the Probability\")\n",
    "    \n",
    "    rand -= probability\n",
    "    if rand <= 0:\n",
    "        i  = List[i]\n",
    "        print (i , \" : has been selected \")\n",
    "       \n",
    "        break"
   ]
  },
  {
   "cell_type": "code",
   "execution_count": 6,
   "metadata": {},
   "outputs": [
    {
     "data": {
      "text/plain": [
       "23"
      ]
     },
     "execution_count": 6,
     "metadata": {},
     "output_type": "execute_result"
    }
   ],
   "source": [
    "# use numpy to choose based on probability (alternative for sleection)\n",
    "\n",
    "import numpy as np\n",
    "\n",
    "np.random.choice(List,1, P).tolist()[0]"
   ]
  },
  {
   "cell_type": "code",
   "execution_count": 7,
   "metadata": {},
   "outputs": [
    {
     "data": {
      "text/plain": [
       "89"
      ]
     },
     "execution_count": 7,
     "metadata": {},
     "output_type": "execute_result"
    }
   ],
   "source": [
    "# roulette function  \n",
    "\n",
    "def roulette(Options, Probabilities):   \n",
    "    \"\"\" funtion returns a selected item \n",
    "        Options: A List of things or numbers from which u can select\n",
    "        Probabilities : The probabilities corresponding to the list\"\"\"\n",
    "    \n",
    "    for i, probability in enumerate(P):\n",
    "        rand = random.random()\n",
    "        #print (rand, \" : Is the random Varaible and \", probability, \" Is the Probability\")\n",
    "        rand -= probability\n",
    "        \n",
    "        if rand <= 0:\n",
    "            i  = Options[i]\n",
    "            #print (i , \" : has been selected \")\n",
    "            break\n",
    "            \n",
    "    return i\n",
    "\n",
    "roulette(List, prob(List))\n",
    "    "
   ]
  },
  {
   "cell_type": "code",
   "execution_count": null,
   "metadata": {},
   "outputs": [],
   "source": []
  }
 ],
 "metadata": {
  "kernelspec": {
   "display_name": "Python [default]",
   "language": "python",
   "name": "python3"
  },
  "language_info": {
   "codemirror_mode": {
    "name": "ipython",
    "version": 3
   },
   "file_extension": ".py",
   "mimetype": "text/x-python",
   "name": "python",
   "nbconvert_exporter": "python",
   "pygments_lexer": "ipython3",
   "version": "3.5.6"
  }
 },
 "nbformat": 4,
 "nbformat_minor": 2
}
