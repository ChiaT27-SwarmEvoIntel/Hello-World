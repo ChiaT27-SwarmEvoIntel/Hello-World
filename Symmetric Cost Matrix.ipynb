{
 "cells": [
  {
   "cell_type": "markdown",
   "metadata": {},
   "source": [
    "# Creat a symmetric matrix"
   ]
  },
  {
   "cell_type": "code",
   "execution_count": 1,
   "metadata": {},
   "outputs": [],
   "source": [
    "# Start by creating the first halve of the matrix\n",
    "\n",
    "import random\n",
    "\n",
    "def matrix(a):\n",
    "    # define interation tuple\n",
    "    b = [(i, str(i)) for i in range(a)]   \n",
    "    matrix = []\n",
    "    \n",
    "    # iterate over tuple to create matrix\n",
    "    for i,j in b:\n",
    "        if i == 0:\n",
    "            j = []\n",
    "            j.append(0)\n",
    "            matrix.append(j)\n",
    "        else:\n",
    "            j=[]\n",
    "            for k in range(i+1):\n",
    "                #print(i,k)\n",
    "                if k == i:\n",
    "                    #print(\"here\")\n",
    "                    j.append(0)\n",
    "                else:\n",
    "                    j.append(random.uniform(1,5))\n",
    "            matrix.append(j)\n",
    "            #print(j)\n",
    "    return matrix"
   ]
  },
  {
   "cell_type": "code",
   "execution_count": 7,
   "metadata": {},
   "outputs": [
    {
     "data": {
      "text/plain": [
       "[[0],\n",
       " [3.786949848304282, 0],\n",
       " [2.5545569726144794, 4.401884119817463, 0],\n",
       " [1.8417843329795787, 4.513377613179078, 3.6488560045656473, 0]]"
      ]
     },
     "execution_count": 7,
     "metadata": {},
     "output_type": "execute_result"
    }
   ],
   "source": [
    "M = matrix(4)\n",
    "M"
   ]
  },
  {
   "cell_type": "code",
   "execution_count": 8,
   "metadata": {},
   "outputs": [
    {
     "data": {
      "text/plain": [
       "[[0, 3.786949848304282, 2.5545569726144794, 1.8417843329795787],\n",
       " [3.786949848304282, 0, 4.401884119817463, 4.513377613179078],\n",
       " [2.5545569726144794, 4.401884119817463, 0, 3.6488560045656473],\n",
       " [1.8417843329795787, 4.513377613179078, 3.6488560045656473, 0]]"
      ]
     },
     "execution_count": 8,
     "metadata": {},
     "output_type": "execute_result"
    }
   ],
   "source": [
    "M[0].append(M[1][0])\n",
    "M\n",
    "M[0].append(M[2][0])\n",
    "M\n",
    "M[0].append(M[3][0])\n",
    "M\n",
    "M[1].append(M[2][1])\n",
    "M\n",
    "M[1].append(M[3][1])\n",
    "M\n",
    "M[2].append(M[3][2])\n",
    "M"
   ]
  },
  {
   "cell_type": "code",
   "execution_count": 9,
   "metadata": {},
   "outputs": [
    {
     "data": {
      "text/plain": [
       "[[0],\n",
       " [1.3148348191168977, 0],\n",
       " [2.3965903627410428, 1.1797993141253973, 0],\n",
       " [3.7515033386991985, 1.6364325524015109, 4.44388639986428, 0]]"
      ]
     },
     "execution_count": 9,
     "metadata": {},
     "output_type": "execute_result"
    }
   ],
   "source": [
    "# Populate the other halve\n",
    "\n",
    "def Fmatrix(a):\n",
    "    M = matrix(a)\n",
    "    \n",
    "    for i in range(len(M)):\n",
    "        \n",
    "        for j in range(1,len(M)-len(M[i])+1):\n",
    "            print(i,j)\n",
    "            M[i].append(M[i+j][i])\n",
    "        #print (M)\n",
    "            \n",
    "    return M\n",
    "\n",
    "M = matrix(4)\n",
    "M"
   ]
  },
  {
   "cell_type": "code",
   "execution_count": 10,
   "metadata": {},
   "outputs": [
    {
     "name": "stdout",
     "output_type": "stream",
     "text": [
      "0 1\n",
      "0 2\n",
      "0 3\n",
      "1 1\n",
      "1 2\n",
      "2 1\n"
     ]
    },
    {
     "data": {
      "text/plain": [
       "[[0, 4.462064846780803, 1.8217522965329134, 3.97577276499299],\n",
       " [4.462064846780803, 0, 3.240345835171075, 2.6389097459885664],\n",
       " [1.8217522965329134, 3.240345835171075, 0, 4.645203622387456],\n",
       " [3.97577276499299, 2.6389097459885664, 4.645203622387456, 0]]"
      ]
     },
     "execution_count": 10,
     "metadata": {},
     "output_type": "execute_result"
    }
   ],
   "source": [
    "Fmatrix(4)"
   ]
  },
  {
   "cell_type": "code",
   "execution_count": 11,
   "metadata": {},
   "outputs": [],
   "source": [
    "# Put all together \n",
    "\n",
    "def Smatrix(a):\n",
    "    \n",
    "    b = [(i, str(i)) for i in range(a)]   \n",
    "    matrix = []\n",
    "    \n",
    "    for i,j in b:\n",
    "        if i == 0:\n",
    "            j = []\n",
    "            j.append(0)\n",
    "            matrix.append(j)\n",
    "        else:\n",
    "            j=[]\n",
    "            for k in range(i+1):\n",
    "                if k == i:\n",
    "                    j.append(0)\n",
    "                else:\n",
    "                    j.append(random.uniform(3,20))\n",
    "            matrix.append(j)\n",
    "            \n",
    "    M = matrix        \n",
    "    for i in range(len(M)):\n",
    "        \n",
    "        for j in range(1,len(M)-len(M[i])+1):\n",
    "            M[i].append(M[i+j][i]) \n",
    "            \n",
    "    return M"
   ]
  },
  {
   "cell_type": "code",
   "execution_count": 12,
   "metadata": {},
   "outputs": [
    {
     "data": {
      "text/plain": [
       "[[0, 8.858820162455853, 7.186416146383006, 12.939002194431051],\n",
       " [8.858820162455853, 0, 7.5370539918232105, 10.121277020754643],\n",
       " [7.186416146383006, 7.5370539918232105, 0, 16.52861804393193],\n",
       " [12.939002194431051, 10.121277020754643, 16.52861804393193, 0]]"
      ]
     },
     "execution_count": 12,
     "metadata": {},
     "output_type": "execute_result"
    }
   ],
   "source": [
    "Smatrix(4)"
   ]
  },
  {
   "cell_type": "markdown",
   "metadata": {},
   "source": [
    "# Calculate Cost For the Travelling Salesman for a given rout"
   ]
  },
  {
   "cell_type": "code",
   "execution_count": 13,
   "metadata": {},
   "outputs": [
    {
     "data": {
      "text/plain": [
       "(44.38459229752484,\n",
       " [[0, 15.205413751850601, 12.7577198466184, 14.4313287444418],\n",
       "  [15.205413751850601, 0, 4.626578094644384, 12.568965611820257],\n",
       "  [12.7577198466184, 4.626578094644384, 0, 9.973515750507032],\n",
       "  [14.4313287444418, 12.568965611820257, 9.973515750507032, 0]])"
      ]
     },
     "execution_count": 13,
     "metadata": {},
     "output_type": "execute_result"
    }
   ],
   "source": [
    "CostMatrix = Smatrix(4)\n",
    "# Moving 3 > 0 > 2 > 1 > 3\n",
    "Cost = CostMatrix[3][0] + CostMatrix[0][2] + CostMatrix[2][1] + CostMatrix[1][3]\n",
    "\n",
    "Cost, CostMatrix"
   ]
  },
  {
   "cell_type": "code",
   "execution_count": 14,
   "metadata": {},
   "outputs": [
    {
     "data": {
      "text/plain": [
       "44.38459229752484"
      ]
     },
     "execution_count": 14,
     "metadata": {},
     "output_type": "execute_result"
    }
   ],
   "source": [
    "def Cost(matrix, route):\n",
    "    cost = 0\n",
    "    \n",
    "    for i in range(len(route)-1):\n",
    "        cost += matrix[route[i]][route[i+1]]\n",
    "        \n",
    "    return cost\n",
    "\n",
    "Cost(CostMatrix, [3,0,2,1,3])"
   ]
  },
  {
   "cell_type": "code",
   "execution_count": null,
   "metadata": {},
   "outputs": [],
   "source": []
  }
 ],
 "metadata": {
  "kernelspec": {
   "display_name": "Python [default]",
   "language": "python",
   "name": "python3"
  },
  "language_info": {
   "codemirror_mode": {
    "name": "ipython",
    "version": 3
   },
   "file_extension": ".py",
   "mimetype": "text/x-python",
   "name": "python",
   "nbconvert_exporter": "python",
   "pygments_lexer": "ipython3",
   "version": "3.5.6"
  }
 },
 "nbformat": 4,
 "nbformat_minor": 2
}
